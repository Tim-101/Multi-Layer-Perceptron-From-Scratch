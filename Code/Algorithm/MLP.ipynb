{
 "cells": [
  {
   "cell_type": "markdown",
   "metadata": {},
   "source": [
    "# Load Library & Functions"
   ]
  },
  {
   "cell_type": "code",
   "execution_count": 1,
   "metadata": {},
   "outputs": [],
   "source": [
    "import pandas as pd\n",
    "import numpy as np\n",
    "import h5py\n",
    "from timeit import default_timer as timer\n",
    "import matplotlib.pyplot as plt\n",
    "import seaborn as sns\n",
    "import time\n",
    "from time import gmtime, strftime, localtime\n",
    "import statistics\n",
    "np.random.seed(0)\n",
    "%matplotlib inline"
   ]
  },
  {
   "cell_type": "code",
   "execution_count": 2,
   "metadata": {},
   "outputs": [],
   "source": [
    "# Define functions for model evaluation\n",
    "def accuracy(label, predicted):\n",
    "    return np.sum(predicted == label)*100/ predicted.shape[0]\n",
    "\n",
    "def confusion_matrix(label, predicted, normalised = True):\n",
    "    confusion = pd.crosstab(label, predicted)\n",
    "    \n",
    "    #If true return the normalised form\n",
    "    if normalised == True:\n",
    "        confusion_normalised = confusion / confusion.sum(axis = 1)\n",
    "        return confusion_normalised.values\n",
    "        \n",
    "    return confusion.values"
   ]
  },
  {
   "cell_type": "markdown",
   "metadata": {},
   "source": [
    "# Load Data"
   ]
  },
  {
   "cell_type": "code",
   "execution_count": 3,
   "metadata": {},
   "outputs": [],
   "source": [
    "#Get the input directory\n",
    "input_dir = \"../Input\"\n",
    "\n",
    "#Get the path for our training data\n",
    "data_path = input_dir+\"/\"+\"train_128.h5\"\n",
    "\n",
    "#Load training data\n",
    "with h5py.File(data_path,'r') as H:\n",
    "    data = np.copy(H['data'])\n",
    "\n",
    "#Get directory for the label    \n",
    "label_path = input_dir+\"/\"+\"train_label.h5\"\n",
    "\n",
    "#Load training labels\n",
    "with h5py.File(label_path,'r') as H:\n",
    "    label = np.copy(H['label'])\n",
    "\n",
    "#Get directory for the test data    \n",
    "test_path = input_dir+\"/\"+\"test_128.h5\"\n",
    "\n",
    "#Load test data\n",
    "with h5py.File(test_path, 'r') as f:\n",
    "    test = np.copy(f['data'])"
   ]
  },
  {
   "cell_type": "markdown",
   "metadata": {},
   "source": [
    "# Data Preprocessing & Exploration"
   ]
  },
  {
   "cell_type": "code",
   "execution_count": 4,
   "metadata": {},
   "outputs": [
    {
     "name": "stdout",
     "output_type": "stream",
     "text": [
      "(60000, 128)\n"
     ]
    }
   ],
   "source": [
    "#Check the shape\n",
    "print(pd.DataFrame(data).shape)"
   ]
  },
  {
   "cell_type": "code",
   "execution_count": 5,
   "metadata": {},
   "outputs": [
    {
     "name": "stdout",
     "output_type": "stream",
     "text": [
      "lowest value: -2045.9187277548756\n",
      "\n",
      "highest value: 2803.8364072606187\n"
     ]
    }
   ],
   "source": [
    "#Check the min values\n",
    "print('lowest value:',np.min(data))\n",
    "print('\\nhighest value:',np.max(data))"
   ]
  },
  {
   "cell_type": "code",
   "execution_count": 6,
   "metadata": {},
   "outputs": [
    {
     "data": {
      "text/html": [
       "<div>\n",
       "<style scoped>\n",
       "    .dataframe tbody tr th:only-of-type {\n",
       "        vertical-align: middle;\n",
       "    }\n",
       "\n",
       "    .dataframe tbody tr th {\n",
       "        vertical-align: top;\n",
       "    }\n",
       "\n",
       "    .dataframe thead th {\n",
       "        text-align: right;\n",
       "    }\n",
       "</style>\n",
       "<table border=\"1\" class=\"dataframe\">\n",
       "  <thead>\n",
       "    <tr style=\"text-align: right;\">\n",
       "      <th></th>\n",
       "      <th>0</th>\n",
       "      <th>1</th>\n",
       "      <th>2</th>\n",
       "      <th>3</th>\n",
       "      <th>4</th>\n",
       "      <th>5</th>\n",
       "      <th>6</th>\n",
       "      <th>7</th>\n",
       "      <th>8</th>\n",
       "      <th>9</th>\n",
       "      <th>...</th>\n",
       "      <th>118</th>\n",
       "      <th>119</th>\n",
       "      <th>120</th>\n",
       "      <th>121</th>\n",
       "      <th>122</th>\n",
       "      <th>123</th>\n",
       "      <th>124</th>\n",
       "      <th>125</th>\n",
       "      <th>126</th>\n",
       "      <th>127</th>\n",
       "    </tr>\n",
       "  </thead>\n",
       "  <tbody>\n",
       "    <tr>\n",
       "      <th>0</th>\n",
       "      <td>-126.502938</td>\n",
       "      <td>1632.432337</td>\n",
       "      <td>-1209.221451</td>\n",
       "      <td>248.416923</td>\n",
       "      <td>-0.602124</td>\n",
       "      <td>-404.695491</td>\n",
       "      <td>-93.129731</td>\n",
       "      <td>201.038160</td>\n",
       "      <td>-32.951419</td>\n",
       "      <td>-27.740150</td>\n",
       "      <td>...</td>\n",
       "      <td>-53.624163</td>\n",
       "      <td>51.010120</td>\n",
       "      <td>-38.099829</td>\n",
       "      <td>34.656913</td>\n",
       "      <td>-7.882829</td>\n",
       "      <td>-8.482584</td>\n",
       "      <td>-34.374911</td>\n",
       "      <td>111.837600</td>\n",
       "      <td>35.704495</td>\n",
       "      <td>-0.663193</td>\n",
       "    </tr>\n",
       "    <tr>\n",
       "      <th>1</th>\n",
       "      <td>1407.564794</td>\n",
       "      <td>-451.681446</td>\n",
       "      <td>-259.769757</td>\n",
       "      <td>368.518685</td>\n",
       "      <td>214.447195</td>\n",
       "      <td>1268.527449</td>\n",
       "      <td>-144.983974</td>\n",
       "      <td>-228.151550</td>\n",
       "      <td>-126.746831</td>\n",
       "      <td>-225.202768</td>\n",
       "      <td>...</td>\n",
       "      <td>30.160792</td>\n",
       "      <td>-30.173178</td>\n",
       "      <td>70.234457</td>\n",
       "      <td>-25.441815</td>\n",
       "      <td>67.777127</td>\n",
       "      <td>-38.934915</td>\n",
       "      <td>48.410126</td>\n",
       "      <td>92.488381</td>\n",
       "      <td>-146.637001</td>\n",
       "      <td>-79.309567</td>\n",
       "    </tr>\n",
       "    <tr>\n",
       "      <th>2</th>\n",
       "      <td>-725.430358</td>\n",
       "      <td>-1103.597632</td>\n",
       "      <td>107.005341</td>\n",
       "      <td>208.071611</td>\n",
       "      <td>-106.249946</td>\n",
       "      <td>-54.682297</td>\n",
       "      <td>-2.370448</td>\n",
       "      <td>50.642284</td>\n",
       "      <td>-97.019372</td>\n",
       "      <td>-79.594366</td>\n",
       "      <td>...</td>\n",
       "      <td>-3.905863</td>\n",
       "      <td>-23.349995</td>\n",
       "      <td>-12.270012</td>\n",
       "      <td>4.997900</td>\n",
       "      <td>40.159405</td>\n",
       "      <td>0.129521</td>\n",
       "      <td>-41.387057</td>\n",
       "      <td>-29.362293</td>\n",
       "      <td>13.054094</td>\n",
       "      <td>28.629644</td>\n",
       "    </tr>\n",
       "    <tr>\n",
       "      <th>3</th>\n",
       "      <td>31.557157</td>\n",
       "      <td>-981.872749</td>\n",
       "      <td>204.210125</td>\n",
       "      <td>375.511765</td>\n",
       "      <td>16.000261</td>\n",
       "      <td>183.780744</td>\n",
       "      <td>-112.367701</td>\n",
       "      <td>11.727588</td>\n",
       "      <td>-341.491224</td>\n",
       "      <td>92.673722</td>\n",
       "      <td>...</td>\n",
       "      <td>-2.595381</td>\n",
       "      <td>17.086888</td>\n",
       "      <td>48.338010</td>\n",
       "      <td>9.972216</td>\n",
       "      <td>-29.549497</td>\n",
       "      <td>28.632482</td>\n",
       "      <td>-29.292039</td>\n",
       "      <td>-34.426822</td>\n",
       "      <td>13.405224</td>\n",
       "      <td>0.072946</td>\n",
       "    </tr>\n",
       "    <tr>\n",
       "      <th>4</th>\n",
       "      <td>804.468286</td>\n",
       "      <td>-1201.982908</td>\n",
       "      <td>-747.112626</td>\n",
       "      <td>-265.420897</td>\n",
       "      <td>405.274689</td>\n",
       "      <td>-151.053642</td>\n",
       "      <td>231.037216</td>\n",
       "      <td>142.043787</td>\n",
       "      <td>7.617055</td>\n",
       "      <td>-159.925086</td>\n",
       "      <td>...</td>\n",
       "      <td>-99.168557</td>\n",
       "      <td>62.783179</td>\n",
       "      <td>-5.787661</td>\n",
       "      <td>24.112081</td>\n",
       "      <td>71.320464</td>\n",
       "      <td>-5.042983</td>\n",
       "      <td>2.254134</td>\n",
       "      <td>18.127838</td>\n",
       "      <td>-24.564781</td>\n",
       "      <td>207.819169</td>\n",
       "    </tr>\n",
       "  </tbody>\n",
       "</table>\n",
       "<p>5 rows × 128 columns</p>\n",
       "</div>"
      ],
      "text/plain": [
       "           0            1            2           3           4            5    \\\n",
       "0  -126.502938  1632.432337 -1209.221451  248.416923   -0.602124  -404.695491   \n",
       "1  1407.564794  -451.681446  -259.769757  368.518685  214.447195  1268.527449   \n",
       "2  -725.430358 -1103.597632   107.005341  208.071611 -106.249946   -54.682297   \n",
       "3    31.557157  -981.872749   204.210125  375.511765   16.000261   183.780744   \n",
       "4   804.468286 -1201.982908  -747.112626 -265.420897  405.274689  -151.053642   \n",
       "\n",
       "          6           7           8           9    ...        118        119  \\\n",
       "0  -93.129731  201.038160  -32.951419  -27.740150  ... -53.624163  51.010120   \n",
       "1 -144.983974 -228.151550 -126.746831 -225.202768  ...  30.160792 -30.173178   \n",
       "2   -2.370448   50.642284  -97.019372  -79.594366  ...  -3.905863 -23.349995   \n",
       "3 -112.367701   11.727588 -341.491224   92.673722  ...  -2.595381  17.086888   \n",
       "4  231.037216  142.043787    7.617055 -159.925086  ... -99.168557  62.783179   \n",
       "\n",
       "         120        121        122        123        124         125  \\\n",
       "0 -38.099829  34.656913  -7.882829  -8.482584 -34.374911  111.837600   \n",
       "1  70.234457 -25.441815  67.777127 -38.934915  48.410126   92.488381   \n",
       "2 -12.270012   4.997900  40.159405   0.129521 -41.387057  -29.362293   \n",
       "3  48.338010   9.972216 -29.549497  28.632482 -29.292039  -34.426822   \n",
       "4  -5.787661  24.112081  71.320464  -5.042983   2.254134   18.127838   \n",
       "\n",
       "          126         127  \n",
       "0   35.704495   -0.663193  \n",
       "1 -146.637001  -79.309567  \n",
       "2   13.054094   28.629644  \n",
       "3   13.405224    0.072946  \n",
       "4  -24.564781  207.819169  \n",
       "\n",
       "[5 rows x 128 columns]"
      ]
     },
     "execution_count": 6,
     "metadata": {},
     "output_type": "execute_result"
    }
   ],
   "source": [
    "#Quick view at the dataset\n",
    "pd.DataFrame(data).head()"
   ]
  },
  {
   "cell_type": "code",
   "execution_count": 7,
   "metadata": {},
   "outputs": [
    {
     "data": {
      "text/plain": [
       "0"
      ]
     },
     "execution_count": 7,
     "metadata": {},
     "output_type": "execute_result"
    }
   ],
   "source": [
    "#Check for null values\n",
    "null = pd.DataFrame(data).isnull().any()\n",
    "null.sum()"
   ]
  },
  {
   "cell_type": "code",
   "execution_count": 8,
   "metadata": {},
   "outputs": [
    {
     "data": {
      "image/png": "[encoded data removed]",
      "text/plain": [
       "<Figure size 432x288 with 1 Axes>"
      ]
     },
     "metadata": {},
     "output_type": "display_data"
    }
   ],
   "source": [
    "#Check label distribution\n",
    "lb = pd.DataFrame(label)\n",
    "sns.set(style=\"darkgrid\")\n",
    "ax = sns.countplot(x=0, data=lb)"
   ]
  },
  {
   "cell_type": "code",
   "execution_count": 9,
   "metadata": {},
   "outputs": [
    {
     "data": {
      "text/plain": [
       "array([[0., 0., 0., ..., 0., 0., 1.],\n",
       "       [1., 0., 0., ..., 0., 0., 0.],\n",
       "       [1., 0., 0., ..., 0., 0., 0.],\n",
       "       ...,\n",
       "       [0., 0., 0., ..., 0., 0., 0.],\n",
       "       [1., 0., 0., ..., 0., 0., 0.],\n",
       "       [0., 0., 0., ..., 0., 0., 0.]])"
      ]
     },
     "execution_count": 9,
     "metadata": {},
     "output_type": "execute_result"
    }
   ],
   "source": [
    "#Create One Hot Encodding\n",
    "levels = np.unique(label).shape[0]\n",
    "encoded_label = np.zeros(shape=(label.shape[0],levels))\n",
    "\n",
    "for i in range(label.shape[0]):\n",
    "    pos = label[i]\n",
    "    encoded_label[i][pos] = 1\n",
    "    \n",
    "encoded_label"
   ]
  },
  {
   "cell_type": "code",
   "execution_count": 10,
   "metadata": {},
   "outputs": [],
   "source": [
    "#Standardised the training, validation and test data\n",
    "train = data[:50000,:]\n",
    "train = (train - np.mean(train)) / np.std(train)\n",
    "\n",
    "validation = data[50000:,:]\n",
    "validation = (validation - np.mean(validation)) / np.std(validation)\n",
    "\n",
    "test = (test - np.mean(test)) / np.std(test)"
   ]
  },
  {
   "cell_type": "markdown",
   "metadata": {},
   "source": [
    "# Machine Learning Model: MLP"
   ]
  },
  {
   "cell_type": "code",
   "execution_count": 11,
   "metadata": {},
   "outputs": [],
   "source": [
    "class Activation(object):\n",
    "    \n",
    "    '''\n",
    "    :list of supported activation functions:\n",
    "    :- tanh\n",
    "    :- softmax\n",
    "    :- relu\n",
    "    :- leaky relu\n",
    "    '''\n",
    "    \n",
    "    #stable softmax implementation\n",
    "    def __softmax(self, x):\n",
    "        exps = np.exp(x - np.max(x))\n",
    "        return exps / np.sum(exps)\n",
    "    \n",
    "    #basic implementation of softmax\n",
    "    def __softmax_deriv(self,a):\n",
    "        s = a.reshape(-1,1)\n",
    "        return np.diagflat(s) - np.dot(s, s.T)\n",
    "    \n",
    "    #ReLU activation function\n",
    "    def __relu(self, x):\n",
    "        x[np.where(x<=0)] = 0\n",
    "        return np.nan_to_num(x)\n",
    "    \n",
    "    #Derivative of relu\n",
    "    def __relu_deriv(self, a):\n",
    "        a[np.where(a<=0)] = 0\n",
    "        a[np.where(a>0)] = 1\n",
    "        return np.nan_to_num(a)\n",
    "\n",
    "    def __init__(self,activation='tanh'):\n",
    "            \n",
    "        if activation == 'relu':\n",
    "            self.f = self.__relu\n",
    "            self.f_deriv = self.__relu_deriv\n",
    "            \n",
    "        elif activation == 'softmax':\n",
    "            self.f = self.__softmax\n",
    "            self.f_deriv = self.__softmax_deriv"
   ]
  },
  {
   "cell_type": "code",
   "execution_count": 12,
   "metadata": {},
   "outputs": [],
   "source": [
    "class HiddenLayer(object):\n",
    "    \n",
    "    def __init__(self,n_in, n_out, activation_last_layer='softmax',activation='relu', W=None, b=None):\n",
    "\n",
    "        self.input=None\n",
    "        self.activation=Activation(activation).f\n",
    "        self.vt=0\n",
    "        self.activation_deriv=None\n",
    "        \n",
    "        if activation_last_layer:\n",
    "            self.activation_deriv=Activation(activation_last_layer).f_deriv\n",
    "            \n",
    "        #Activation function check to determine the best weight initialisation method\n",
    "        if activation == 'relu':\n",
    "            n_tot = n_in\n",
    "        else:\n",
    "            n_tot = n_in +n_out\n",
    "            \n",
    "        #Weight initialization using Xavier uniform distribution\n",
    "        self.W = np.random.uniform(\n",
    "                low=-np.sqrt(6. / (n_tot)),\n",
    "                high=np.sqrt(6. / (n_tot)),\n",
    "                size=(n_in, n_out))\n",
    "        \n",
    "        #Bias initialization\n",
    "        self.b = np.zeros(n_out,) \n",
    "        \n",
    "        self.grad_W = np.zeros(self.W.shape)\n",
    "        self.grad_b = np.zeros(self.b.shape)\n",
    "        self.grad_W_wd = np.zeros(self.W.shape)\n",
    "    \n",
    "    #batch normalisation during forward propagation\n",
    "    def bn_forward(self, input, gamma, beta):\n",
    "        mu = np.mean(input, axis=0)\n",
    "        var = np.var(input, axis=0)\n",
    "        input_hat = (input - mu) / np.sqrt(var + 1e-8)\n",
    "        output = gamma * input_norm + beta\n",
    "        cache = (input, input_hat, mu, var, gamma, beta)\n",
    "        return output, cache, mu, var\n",
    "        \n",
    "    #Foward Propagation step of the individual layer    \n",
    "    def forward(self, input):\n",
    "        lin_output = np.dot(input, self.W) + self.b\n",
    "        #lin_output, self.bn_cache, self.mu, \n",
    "            #self.var = self.bn_forward(lin_output, self.gamma, self.beta)\n",
    "        \n",
    "        self.output = (lin_output if self.activation is None\n",
    "                        else self.activation(lin_output))\n",
    "        #self.mean_training = 0.9 * self.mean_training + 0.1 * self.mu\n",
    "        #self.var_training = 0.9 * self.var_training + 0.1 * self.var\n",
    "        self.input=input\n",
    "        return self.output\n",
    "    \n",
    "    #batch normalisation during backward propagation    \n",
    "    def bn_backward(delta, cache):\n",
    "        input, input_hat, mu, var, gamma, beta = self.bn_cache\n",
    "        N,_ = input.shape\n",
    "        input_mu = input - mu\n",
    "        std_inv = 1. / np.sqrt(var + 1e-8)\n",
    "        d_norm = delta * gamma\n",
    "        dvar = np.sum(d_norm * input_mu, axis=0) * -0.5 * std_inv**3\n",
    "        dmu = np.sum(d_norm * -std_inv, axis=0) + dvar * np.mean(-2*input_mu, axis=0)\n",
    "        d = (d_norm * std_inv) + (dvar * 2 * input_mu / N) + (dmu / N)\n",
    "        dgamma = np.sum(delta * input_hat, axis=0)\n",
    "        dbeta = np.sum(delta, axis=0)\n",
    "        return d, dgamma, dbeta\n",
    "   \n",
    "    #update the batch noramlisation gamma and beta\n",
    "    def bn_update(dgamma, dbeta):\n",
    "        self.gamma += dgamma\n",
    "        self.beta += dbeta\n",
    "        return self.gamma, self.beta\n",
    "\n",
    "    #Backward Propagation step of the individual layer\n",
    "    def backward(self, delta, output_layer=False):\n",
    "        self.grad_W = np.atleast_2d(self.input).T.dot(np.atleast_2d(delta))\n",
    "        self.grad_b = delta\n",
    "        if self.activation_deriv:\n",
    "            delta = delta.dot(self.W.T) * self.activation_deriv(self.input) \n",
    "            #delta, self.dgamma, self.dbeta = self.bn_backward(delta, self.bn_cache)\n",
    "            #self.gamma, self.beta = self.bn_update(self.dgamma, self.dbeta)        \n",
    "        return delta\n",
    "    \n",
    "    #forward propagation for prediction with batch normalisation\n",
    "    def forward_predict(self, input):\n",
    "        lin_output = np.dot(inp, self.weight_matrix) + self.bias\n",
    "        lin_output = forward_batch_test(self.gamma, self.beta, lin_output, self.mean_training, self.var_training)\n",
    "        self.output = (lin_output if self.activation is None \n",
    "                       else self.activation(lin_output))\n",
    "        return self.output\n",
    "   \n",
    "    #Weight Decay step of the individual layer\n",
    "    def weight_decay(self, lambd):\n",
    "        #Needed weight decay terms of each layer.\n",
    "        weight_decay = np.square(self.W)*(lambd/2)\n",
    "        #Storing the value for the weight decay gradient.\n",
    "        self.grad_W_wd = self.grad_W + lambd * self.W \n",
    "        #Returning the weight_decay term that is added to the Cross Entropy loss.\n",
    "        return weight_decay \n",
    "       \n",
    "    #Momentum step of the individual layer\n",
    "    def momentum (self, gamma, lr, lambd):\n",
    "        #Combining the weight decay gradient with the momentum term.\n",
    "        self.weight_decay(lambd)\n",
    "        self.vt = gamma * self.vt + lr * self.grad_W_wd \n",
    "        #Returning the momentum update term for the weight updates.\n",
    "        return self.vt "
   ]
  },
  {
   "cell_type": "code",
   "execution_count": 13,
   "metadata": {},
   "outputs": [],
   "source": [
    "class MLP:\n",
    "    \n",
    "    def __init__(self, layers, activation=[None,'relu','softmax'], dropout = 3, drop_p = 0.5):\n",
    "        \"\"\"\n",
    "        :param layers: A list containing the number of units in each layer. Minimum two but can be more\n",
    "        :param activation: The activation function to be used. Can be \"relu\", \"tanh\" or 'softmax'\n",
    "        :param dropout: layer which dropout would be applied\n",
    "        :param drop_p: probability for dropping the neuron in dropout layer\n",
    "        \"\"\"        \n",
    "        ### initialize layers\n",
    "        self.layers= []\n",
    "        self.params=[]\n",
    "        self.activation=activation\n",
    "        self.dropout = dropout\n",
    "        self.drop_p = 1 - drop_p\n",
    "        self.drop = np.random.binomial(1, self.drop_p, size=layers[dropout - 1])\n",
    "        self.weight_decay_sum = 0\n",
    "        \n",
    "        for i in range(len(layers)-1):\n",
    "            self.layers.append(HiddenLayer(layers[i],layers[i+1],activation[i],activation[i+1]))\n",
    " \n",
    "\n",
    "    #Called by the fit function to separate the training data into batches\n",
    "    def batch(self,X,y,minibatch_size):\n",
    "            #Divides the whole dataset in mini-batches.\n",
    "            for i in range(0, X.shape[0], minibatch_size):\n",
    "                #Get X minibatch/chunk.\n",
    "                X_batch = np.array(X[i : i+minibatch_size])\n",
    "                #Get y minibatch/chunk.\n",
    "                y_batch = np.array(y[i : i+minibatch_size])\n",
    "                return X_batch, y_batch\n",
    "                \n",
    "    #forward propagation        \n",
    "    def forward(self,input):\n",
    "        dl = 1\n",
    "        for layer in self.layers:\n",
    "            if dl == self.dropout:\n",
    "                input = self.drop*input\n",
    "            output=layer.forward(input)\n",
    "            dl = dl + 1\n",
    "            input=output\n",
    "        return output\n",
    "    \n",
    "    #forward propagation during predict\n",
    "    def forward_predict(self, input):\n",
    "        dl = 1\n",
    "        for layer in self.layers:\n",
    "            if dl == self.dropout:\n",
    "                input = self.drop*input\n",
    "            output=layer.forward_predict(input)\n",
    "            dl = dl + 1\n",
    "            input=output\n",
    "        return output\n",
    "    \n",
    "    #cross entropy loss function\n",
    "    def cross_entropy(self,y_batch,y_hat):\n",
    "        # Cross-entropy loss\n",
    "        entropy_loss =  np.mean(-y_batch*np.log(y_hat + 1.00e-8))\n",
    "        return entropy_loss\n",
    "    \n",
    "    #Calculate loss and derivative of loss\n",
    "    def loss (self, y_batch, y_hat):\n",
    "        cross_entropy_derivatives = -y_batch/y_hat\n",
    "        loss = self.cross_entropy(y_batch, y_hat)#?I am not sure if the the weight decay term should count\n",
    "        #to the actual loss function.?\n",
    "        activation_deriv=Activation(self.activation[-1]).f_deriv\n",
    "        delta= cross_entropy_derivatives @ activation_deriv(y_hat)#Without weight decay, since we need it without for the \n",
    "        #update of the bias term.\n",
    "        return loss, delta\n",
    "    \n",
    "     #backward propagation\n",
    "    def backward(self,delta):\n",
    "        delta=self.layers[-1].backward(delta, output_layer=True)\n",
    "        dl = 4\n",
    "        for layer in reversed(self.layers[:-1]):\n",
    "            if dl == self.dropout:\n",
    "                delta = self.drop*delta\n",
    "            delta=layer.backward(delta)\n",
    "            dl = dl - 1\n",
    "       \n",
    "   #update parameters (weight and bias)  \n",
    "    def update(self,lr, lambd, gamma):\n",
    "        for layer in self.layers:\n",
    "            layer.W -= layer.momentum(gamma, lr, lambd)# with weight decay gradient term \"lambd * W\".\n",
    "            layer.b -= lr * layer.grad_b# without weight decay\n",
    "      \n",
    "    def fit(self,X,y,lr=0.1, lambd = 0.02, gamma = 0.9, epochs=100, minibatch_size = 128):\n",
    "        \"\"\"\n",
    "        Online learning.\n",
    "        :param X: Input data or features\n",
    "        :param y: Input targets\n",
    "        :param learning_rate: parameters defining the speed of learning\n",
    "        :param epochs: number of times the dataset is presented to the network for learning\n",
    "        \"\"\" \n",
    "        \n",
    "        to_return = np.zeros(epochs)\n",
    "        for k in range(epochs): \n",
    "            ent_loss=[]\n",
    "            start=timer()\n",
    "            for i in range(0, X.shape[0], minibatch_size):                \n",
    "                X_batch = np.array(X[i : i+minibatch_size])\n",
    "                y_batch = np.array(y[i : i+minibatch_size])            \n",
    "                \n",
    "                for it in range(X_batch.shape[0]):\n",
    "                    qq=np.random.randint(X_batch.shape[0])\n",
    "\n",
    "                    # forward pass\n",
    "                    y_hat = self.forward(X_batch[qq])\n",
    "\n",
    "                    # backward pass\n",
    "                    ls,delta=self.loss(y_batch[qq],y_hat)\n",
    "                    self.backward(delta)\n",
    "                    ent_loss.append(ls)\n",
    "\n",
    "                    # update\n",
    "                    self.update(lr, lambd, gamma)#can stay the same.\n",
    "            \n",
    "            to_return[k] = statistics.mean(ent_loss)\n",
    "            print('Epoch:',\"{0:0=2d}\".format(k+1),'------------------------------------','Loss:',\n",
    "                  \"{:.6f}\".format(to_return[k]),\"-- Duration\", \"{:.2f}\".format(timer()-start),'sec')\n",
    "            \n",
    "        return to_return\n",
    "            \n",
    "    def predict(self, x):\n",
    "        x = np.array(x)\n",
    "        output = np.zeros((x.shape[0],10))\n",
    "        for i in np.arange(x.shape[0]):\n",
    "            output[i] = nn.forward(x[i,:])\n",
    "        return output"
   ]
  },
  {
   "cell_type": "markdown",
   "metadata": {},
   "source": [
    "# Model Training"
   ]
  },
  {
   "cell_type": "code",
   "execution_count": 17,
   "metadata": {},
   "outputs": [],
   "source": [
    "#Define MLP parameters i.e. layers, neurons, activaiton functions etc.\n",
    "nn = MLP([128,300,128,300,10], [None,'relu','relu','relu','softmax'], dropout = 3, drop_p = 0.12)"
   ]
  },
  {
   "cell_type": "code",
   "execution_count": 18,
   "metadata": {
    "scrolled": true
   },
   "outputs": [
    {
     "name": "stdout",
     "output_type": "stream",
     "text": [
      "Epoch: 01 ------------------------------------ Loss: 0.041926 -- Duration 52.79 sec\n",
      "Epoch: 02 ------------------------------------ Loss: 0.031303 -- Duration 58.57 sec\n",
      "Epoch: 03 ------------------------------------ Loss: 0.028759 -- Duration 57.12 sec\n",
      "Epoch: 04 ------------------------------------ Loss: 0.027323 -- Duration 63.51 sec\n",
      "Epoch: 05 ------------------------------------ Loss: 0.025502 -- Duration 60.22 sec\n",
      "Epoch: 06 ------------------------------------ Loss: 0.024833 -- Duration 59.28 sec\n",
      "Epoch: 07 ------------------------------------ Loss: 0.024738 -- Duration 53.82 sec\n",
      "Epoch: 08 ------------------------------------ Loss: 0.023614 -- Duration 54.34 sec\n",
      "Epoch: 09 ------------------------------------ Loss: 0.024119 -- Duration 53.79 sec\n",
      "Epoch: 10 ------------------------------------ Loss: 0.023449 -- Duration 52.41 sec\n",
      "Epoch: 11 ------------------------------------ Loss: 0.023060 -- Duration 52.36 sec\n",
      "Epoch: 12 ------------------------------------ Loss: 0.022950 -- Duration 52.12 sec\n",
      "Epoch: 13 ------------------------------------ Loss: 0.022491 -- Duration 54.24 sec\n",
      "Wall time: 12min 4s\n"
     ]
    }
   ],
   "source": [
    "%%time\n",
    "#Train MLP model\n",
    "Loss = nn.fit(train, encoded_label[:50000], lr=0.001, lambd=0.001, gamma=0.6, epochs=13, minibatch_size =2048 )"
   ]
  },
  {
   "cell_type": "code",
   "execution_count": 19,
   "metadata": {},
   "outputs": [
    {
     "data": {
      "image/png": "[encoded data removed]",
      "text/plain": [
       "<Figure size 1080x288 with 1 Axes>"
      ]
     },
     "metadata": {},
     "output_type": "display_data"
    }
   ],
   "source": [
    "#plot the trainign loss vs epochs\n",
    "plt.figure(figsize=(15,4))\n",
    "plt.plot(Loss)\n",
    "plt.grid()"
   ]
  },
  {
   "cell_type": "markdown",
   "metadata": {},
   "source": [
    "# Model Evaluation"
   ]
  },
  {
   "cell_type": "markdown",
   "metadata": {},
   "source": [
    "Check Training Accuracy"
   ]
  },
  {
   "cell_type": "code",
   "execution_count": 20,
   "metadata": {},
   "outputs": [],
   "source": [
    "#get train predictions\n",
    "output = nn.predict(train)\n",
    "output_edited = output.argmax(axis=1)"
   ]
  },
  {
   "cell_type": "code",
   "execution_count": 21,
   "metadata": {},
   "outputs": [
    {
     "data": {
      "text/plain": [
       "91.104"
      ]
     },
     "execution_count": 21,
     "metadata": {},
     "output_type": "execute_result"
    }
   ],
   "source": [
    "#Calculate model training accuracy\n",
    "accuracy(label[:50000], output_edited)"
   ]
  },
  {
   "cell_type": "code",
   "execution_count": 22,
   "metadata": {},
   "outputs": [
    {
     "data": {
      "image/png": "[encoded data removed]",
      "text/plain": [
       "<Figure size 720x576 with 2 Axes>"
      ]
     },
     "metadata": {},
     "output_type": "display_data"
    }
   ],
   "source": [
    "#Create confusion matrix for train prediction\n",
    "cf = confusion_matrix(label[:50000], output_edited)\n",
    "\n",
    "#visualise confusion matrix\n",
    "import seaborn as sns; sns.set()\n",
    "size = (10, 8)\n",
    "fig, ax = plt.subplots(figsize=size)\n",
    "ax = sns.heatmap(cf.round(2),ax = ax, cmap=\"YlGnBu\", annot=True)"
   ]
  },
  {
   "cell_type": "markdown",
   "metadata": {},
   "source": [
    "Check Validation Accuracy"
   ]
  },
  {
   "cell_type": "code",
   "execution_count": 31,
   "metadata": {},
   "outputs": [],
   "source": [
    "#Get the valiation prediction\n",
    "output = nn.predict(validation)\n",
    "output_edited = output.argmax(axis=1)"
   ]
  },
  {
   "cell_type": "code",
   "execution_count": 32,
   "metadata": {},
   "outputs": [
    {
     "data": {
      "text/plain": [
       "88.47"
      ]
     },
     "execution_count": 32,
     "metadata": {},
     "output_type": "execute_result"
    }
   ],
   "source": [
    "#Calculate model validation accuracy\n",
    "accuracy(label[50000:], output_edited)"
   ]
  },
  {
   "cell_type": "code",
   "execution_count": 33,
   "metadata": {},
   "outputs": [
    {
     "data": {
      "image/png": "[encoded data removed]",
      "text/plain": [
       "<Figure size 720x576 with 2 Axes>"
      ]
     },
     "metadata": {},
     "output_type": "display_data"
    }
   ],
   "source": [
    "#Create confusion matrix for validation\n",
    "cf = confusion_matrix(label[50000:], output_edited)\n",
    "\n",
    "#visualise confusion matrix\n",
    "import seaborn as sns; sns.set()\n",
    "size = (10, 8)\n",
    "fig, ax = plt.subplots(figsize=size)\n",
    "ax = sns.heatmap(cf.round(2),ax = ax, cmap=\"YlGnBu\", annot=True)"
   ]
  },
  {
   "cell_type": "markdown",
   "metadata": {},
   "source": [
    "# Predict Test Labels"
   ]
  },
  {
   "cell_type": "code",
   "execution_count": 34,
   "metadata": {},
   "outputs": [],
   "source": [
    "#Get the test prediction\n",
    "predictions = nn.predict(test)\n",
    "label_output = predictions.argmax(axis=1)"
   ]
  },
  {
   "cell_type": "code",
   "execution_count": 35,
   "metadata": {},
   "outputs": [],
   "source": [
    "#Get the path andd directory to save test prediction\n",
    "output_path = \"../Output\"+\"/\"+\"predicted_labels.h5\"\n",
    "\n",
    "#save test prediction\n",
    "with h5py.File(output_path, 'w') as f:\n",
    "    f.create_dataset('predicted_labels', data=label_output)"
   ]
  },
  {
   "cell_type": "code",
   "execution_count": 36,
   "metadata": {},
   "outputs": [],
   "source": [
    "#Get the input directory\n",
    "input_dir = \"../Output\"\n",
    "\n",
    "#Get the path for our training data\n",
    "data_path = input_dir+\"/\"+\"predicted_labels.h5\"\n",
    "\n",
    "#Load training data\n",
    "with h5py.File(data_path,'r') as H:\n",
    "    output_label = np.copy(H['predicted_labels'])"
   ]
  },
  {
   "cell_type": "code",
   "execution_count": 29,
   "metadata": {},
   "outputs": [
    {
     "data": {
      "text/plain": [
       "array([9, 2, 1, ..., 8, 1, 5], dtype=int64)"
      ]
     },
     "execution_count": 29,
     "metadata": {},
     "output_type": "execute_result"
    }
   ],
   "source": [
    "output_label"
   ]
  },
  {
   "cell_type": "code",
   "execution_count": 30,
   "metadata": {},
   "outputs": [
    {
     "data": {
      "text/plain": [
       "array([9, 2, 1, ..., 8, 1, 5], dtype=int64)"
      ]
     },
     "execution_count": 30,
     "metadata": {},
     "output_type": "execute_result"
    }
   ],
   "source": [
    "label_output"
   ]
  }
 ],
 "metadata": {
  "kernelspec": {
   "display_name": "Python 3",
   "language": "python",
   "name": "python3"
  },
  "language_info": {
   "codemirror_mode": {
    "name": "ipython",
    "version": 3
   },
   "file_extension": ".py",
   "mimetype": "text/x-python",
   "name": "python",
   "nbconvert_exporter": "python",
   "pygments_lexer": "ipython3",
   "version": "3.7.3"
  }
 },
 "nbformat": 4,
 "nbformat_minor": 2
}
